{
  "nbformat": 4,
  "nbformat_minor": 0,
  "metadata": {
    "colab": {
      "name": "BotList.ipynb",
      "provenance": []
    },
    "kernelspec": {
      "display_name": "Python 3",
      "name": "python3"
    },
    "language_info": {
      "name": "python"
    }
  },
  "cells": [
    {
      "cell_type": "code",
      "metadata": {
        "id": "Y4L5YFq_XhL4"
      },
      "source": [
        "pip install chatterbot"
      ],
      "execution_count": null,
      "outputs": []
    },
    {
      "cell_type": "code",
      "metadata": {
        "id": "Aop6myUlXOxP"
      },
      "source": [
        "from chatterbot import ChatBot\n",
        "from chatterbot.trainers import ListTrainer"
      ],
      "execution_count": 3,
      "outputs": []
    },
    {
      "cell_type": "code",
      "metadata": {
        "id": "aV9PGfnhf7uy"
      },
      "source": [
        "dialogo = ['Hola', 'Que tal?','Bien','En que te puedo ayudar?','Quien eres?','Soy un bot','Tengo una pregunta','dime','Que tal la comida?','Bien, es muy buena','gracias', 'Hasta pronto','Hasta luego','Saludos','Suerte' ]"
      ],
      "execution_count": 6,
      "outputs": []
    },
    {
      "cell_type": "code",
      "metadata": {
        "id": "9vAlsUlMX6ut"
      },
      "source": [
        "chat = ChatBot('bot')\n",
        "trainer = ListTrainer(chat)\n",
        "trainer.train(dialogo)"
      ],
      "execution_count": null,
      "outputs": []
    },
    {
      "cell_type": "code",
      "metadata": {
        "id": "HWjIZUI9Z_oS"
      },
      "source": [
        "while True:\n",
        "  try:\n",
        "    peticion = input('Tú:  ')\n",
        "    respuesta = chat.get_response(peticion)\n",
        "    print('Bot: ',respuesta)\n",
        "    #Control + d, para salir,\n",
        "  except (KeyboardInterrupt, EOFError, SystemExit):\n",
        "        break"
      ],
      "execution_count": null,
      "outputs": []
    }
  ]
}