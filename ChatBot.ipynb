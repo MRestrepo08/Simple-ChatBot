{
  "nbformat": 4,
  "nbformat_minor": 0,
  "metadata": {
    "colab": {
      "name": "ChatBot.ipynb",
      "provenance": []
    },
    "kernelspec": {
      "display_name": "Python 3",
      "name": "python3"
    },
    "language_info": {
      "name": "python"
    }
  },
  "cells": [
    {
      "cell_type": "code",
      "metadata": {
        "id": "Y4L5YFq_XhL4"
      },
      "source": [
        "pip install chatterbot"
      ],
      "execution_count": null,
      "outputs": []
    },
    {
      "cell_type": "code",
      "metadata": {
        "id": "Aop6myUlXOxP"
      },
      "source": [
        "from chatterbot import ChatBot\n",
        "from chatterbot.trainers import ListTrainer\n",
        "from chatterbot.trainers import ChatterBotCorpusTrainer"
      ],
      "execution_count": 2,
      "outputs": []
    },
    {
      "cell_type": "code",
      "metadata": {
        "id": "BKpaLVUDMi69"
      },
      "source": [
        "from chatterbot.response_selection import get_random_response"
      ],
      "execution_count": 3,
      "outputs": []
    },
    {
      "cell_type": "code",
      "metadata": {
        "id": "9vAlsUlMX6ut"
      },
      "source": [
        "chat = ChatBot('bot')\n"
      ],
      "execution_count": 4,
      "outputs": []
    },
    {
      "cell_type": "code",
      "metadata": {
        "id": "zllaFo5fPiMG"
      },
      "source": [
        "trainer = ChatterBotCorpusTrainer(chat)\n",
        "trainer.train(\n",
        "    \"./categories.yml\"\n",
        ")"
      ],
      "execution_count": null,
      "outputs": []
    },
    {
      "cell_type": "code",
      "metadata": {
        "id": "HWjIZUI9Z_oS"
      },
      "source": [
        "while True:\n",
        "  try:\n",
        "    peticion = input('Tú:  ')\n",
        "    respuesta = chat.get_response(peticion)\n",
        "    print('Bot: ',respuesta)\n",
        "    #Control + d, para salir,\n",
        "  except (KeyboardInterrupt, EOFError, SystemExit):\n",
        "        break"
      ],
      "execution_count": null,
      "outputs": []
    }
  ]
}